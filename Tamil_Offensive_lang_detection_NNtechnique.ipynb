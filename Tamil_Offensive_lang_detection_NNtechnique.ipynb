{
  "nbformat": 4,
  "nbformat_minor": 0,
  "metadata": {
    "colab": {
      "name": "Tamil Offensive lang detection-NNtechnique.ipynb",
      "provenance": [],
      "collapsed_sections": []
    },
    "kernelspec": {
      "name": "python3",
      "display_name": "Python 3"
    },
    "language_info": {
      "name": "python"
    }
  },
  "cells": [
    {
      "cell_type": "code",
      "metadata": {
        "id": "r3r5XAZh5yXL"
      },
      "source": [
        "import pandas as pd\n",
        "import warnings\n",
        "warnings.filterwarnings('ignore')\n",
        "import re"
      ],
      "execution_count": 100,
      "outputs": []
    },
    {
      "cell_type": "code",
      "metadata": {
        "id": "HJ-SWXeZ68v5"
      },
      "source": [
        "dataset = pd.read_csv('/content/tamil_offensive_train.csv')"
      ],
      "execution_count": 101,
      "outputs": []
    },
    {
      "cell_type": "code",
      "metadata": {
        "colab": {
          "base_uri": "https://localhost:8080/",
          "height": 195
        },
        "id": "w7gQ9oKq7DrW",
        "outputId": "4e392c0e-a8b3-42da-9d65-13ef010f8f00"
      },
      "source": [
        "dataset.head()"
      ],
      "execution_count": 102,
      "outputs": [
        {
          "output_type": "execute_result",
          "data": {
            "text/html": [
              "<div>\n",
              "<style scoped>\n",
              "    .dataframe tbody tr th:only-of-type {\n",
              "        vertical-align: middle;\n",
              "    }\n",
              "\n",
              "    .dataframe tbody tr th {\n",
              "        vertical-align: top;\n",
              "    }\n",
              "\n",
              "    .dataframe thead th {\n",
              "        text-align: right;\n",
              "    }\n",
              "</style>\n",
              "<table border=\"1\" class=\"dataframe\">\n",
              "  <thead>\n",
              "    <tr style=\"text-align: right;\">\n",
              "      <th></th>\n",
              "      <th>id</th>\n",
              "      <th>text</th>\n",
              "      <th>category</th>\n",
              "    </tr>\n",
              "  </thead>\n",
              "  <tbody>\n",
              "    <tr>\n",
              "      <th>0</th>\n",
              "      <td>tam1</td>\n",
              "      <td>திருமலை நாயக்கர் பேரவை சார்பாக படம் வெற்றி பெற...</td>\n",
              "      <td>NOT</td>\n",
              "    </tr>\n",
              "    <tr>\n",
              "      <th>1</th>\n",
              "      <td>tam2</td>\n",
              "      <td>இந்த ட்ரெய்லர் கூட பார்க்கிற மாதிரி இல்லை.. இத...</td>\n",
              "      <td>OFF</td>\n",
              "    </tr>\n",
              "    <tr>\n",
              "      <th>2</th>\n",
              "      <td>tam3</td>\n",
              "      <td>மைசூரு செட்டியார் சமூகத்தின் சார்பாக இப்படம் வ...</td>\n",
              "      <td>NOT</td>\n",
              "    </tr>\n",
              "    <tr>\n",
              "      <th>3</th>\n",
              "      <td>tam4</td>\n",
              "      <td>மொத்த சாதியும் ஒரு சாதிக்கு எதிரா நிக்குது.......</td>\n",
              "      <td>OFF</td>\n",
              "    </tr>\n",
              "    <tr>\n",
              "      <th>4</th>\n",
              "      <td>tam5</td>\n",
              "      <td>only for விஜய் சேதுபதி and STR</td>\n",
              "      <td>NOT</td>\n",
              "    </tr>\n",
              "  </tbody>\n",
              "</table>\n",
              "</div>"
            ],
            "text/plain": [
              "     id                                               text category\n",
              "0  tam1  திருமலை நாயக்கர் பேரவை சார்பாக படம் வெற்றி பெற...      NOT\n",
              "1  tam2  இந்த ட்ரெய்லர் கூட பார்க்கிற மாதிரி இல்லை.. இத...      OFF\n",
              "2  tam3  மைசூரு செட்டியார் சமூகத்தின் சார்பாக இப்படம் வ...      NOT\n",
              "3  tam4  மொத்த சாதியும் ஒரு சாதிக்கு எதிரா நிக்குது.......      OFF\n",
              "4  tam5                     only for விஜய் சேதுபதி and STR      NOT"
            ]
          },
          "metadata": {
            "tags": []
          },
          "execution_count": 102
        }
      ]
    },
    {
      "cell_type": "code",
      "metadata": {
        "colab": {
          "base_uri": "https://localhost:8080/"
        },
        "id": "iW5s86kukfdB",
        "outputId": "7b863d27-86d7-4c86-f014-4b0efbb46ff7"
      },
      "source": [
        "dataset.shape"
      ],
      "execution_count": 103,
      "outputs": [
        {
          "output_type": "execute_result",
          "data": {
            "text/plain": [
              "(5880, 3)"
            ]
          },
          "metadata": {
            "tags": []
          },
          "execution_count": 103
        }
      ]
    },
    {
      "cell_type": "code",
      "metadata": {
        "id": "-b9LyG9-7E-e"
      },
      "source": [
        "dataset.drop(labels='id', axis=1, inplace=True)"
      ],
      "execution_count": 104,
      "outputs": []
    },
    {
      "cell_type": "code",
      "metadata": {
        "colab": {
          "base_uri": "https://localhost:8080/",
          "height": 195
        },
        "id": "ANBjF46v7RjV",
        "outputId": "7a8ec574-ab98-4752-e9e9-987e433ba86c"
      },
      "source": [
        "dataset.head()"
      ],
      "execution_count": 105,
      "outputs": [
        {
          "output_type": "execute_result",
          "data": {
            "text/html": [
              "<div>\n",
              "<style scoped>\n",
              "    .dataframe tbody tr th:only-of-type {\n",
              "        vertical-align: middle;\n",
              "    }\n",
              "\n",
              "    .dataframe tbody tr th {\n",
              "        vertical-align: top;\n",
              "    }\n",
              "\n",
              "    .dataframe thead th {\n",
              "        text-align: right;\n",
              "    }\n",
              "</style>\n",
              "<table border=\"1\" class=\"dataframe\">\n",
              "  <thead>\n",
              "    <tr style=\"text-align: right;\">\n",
              "      <th></th>\n",
              "      <th>text</th>\n",
              "      <th>category</th>\n",
              "    </tr>\n",
              "  </thead>\n",
              "  <tbody>\n",
              "    <tr>\n",
              "      <th>0</th>\n",
              "      <td>திருமலை நாயக்கர் பேரவை சார்பாக படம் வெற்றி பெற...</td>\n",
              "      <td>NOT</td>\n",
              "    </tr>\n",
              "    <tr>\n",
              "      <th>1</th>\n",
              "      <td>இந்த ட்ரெய்லர் கூட பார்க்கிற மாதிரி இல்லை.. இத...</td>\n",
              "      <td>OFF</td>\n",
              "    </tr>\n",
              "    <tr>\n",
              "      <th>2</th>\n",
              "      <td>மைசூரு செட்டியார் சமூகத்தின் சார்பாக இப்படம் வ...</td>\n",
              "      <td>NOT</td>\n",
              "    </tr>\n",
              "    <tr>\n",
              "      <th>3</th>\n",
              "      <td>மொத்த சாதியும் ஒரு சாதிக்கு எதிரா நிக்குது.......</td>\n",
              "      <td>OFF</td>\n",
              "    </tr>\n",
              "    <tr>\n",
              "      <th>4</th>\n",
              "      <td>only for விஜய் சேதுபதி and STR</td>\n",
              "      <td>NOT</td>\n",
              "    </tr>\n",
              "  </tbody>\n",
              "</table>\n",
              "</div>"
            ],
            "text/plain": [
              "                                                text category\n",
              "0  திருமலை நாயக்கர் பேரவை சார்பாக படம் வெற்றி பெற...      NOT\n",
              "1  இந்த ட்ரெய்லர் கூட பார்க்கிற மாதிரி இல்லை.. இத...      OFF\n",
              "2  மைசூரு செட்டியார் சமூகத்தின் சார்பாக இப்படம் வ...      NOT\n",
              "3  மொத்த சாதியும் ஒரு சாதிக்கு எதிரா நிக்குது.......      OFF\n",
              "4                     only for விஜய் சேதுபதி and STR      NOT"
            ]
          },
          "metadata": {
            "tags": []
          },
          "execution_count": 105
        }
      ]
    },
    {
      "cell_type": "code",
      "metadata": {
        "colab": {
          "base_uri": "https://localhost:8080/"
        },
        "id": "9tDbHIBP7jYE",
        "outputId": "7a4354b9-a262-44b9-e3cd-56bb4b18ce54"
      },
      "source": [
        "dataset.category.unique()"
      ],
      "execution_count": 106,
      "outputs": [
        {
          "output_type": "execute_result",
          "data": {
            "text/plain": [
              "array(['NOT', 'OFF', 'not-Tamil'], dtype=object)"
            ]
          },
          "metadata": {
            "tags": []
          },
          "execution_count": 106
        }
      ]
    },
    {
      "cell_type": "code",
      "metadata": {
        "id": "bdsJwn6i9ZEB"
      },
      "source": [
        "dataset = dataset.loc[dataset[\"category\"] != 'not-Tamil']"
      ],
      "execution_count": 107,
      "outputs": []
    },
    {
      "cell_type": "code",
      "metadata": {
        "colab": {
          "base_uri": "https://localhost:8080/"
        },
        "id": "v6aqOsZw9r5y",
        "outputId": "e3674aa0-105d-450e-c20c-2cacfe1cf60e"
      },
      "source": [
        "dataset.category.unique()"
      ],
      "execution_count": 108,
      "outputs": [
        {
          "output_type": "execute_result",
          "data": {
            "text/plain": [
              "array(['NOT', 'OFF'], dtype=object)"
            ]
          },
          "metadata": {
            "tags": []
          },
          "execution_count": 108
        }
      ]
    },
    {
      "cell_type": "code",
      "metadata": {
        "id": "8HIFb0rl9taE"
      },
      "source": [
        "dataset['category'] = dataset.category.replace(to_replace=['NOT', 'OFF'], value=[0, 1])\n",
        "# 0 - Not offensive\n",
        "# 1 - Offensive"
      ],
      "execution_count": 109,
      "outputs": []
    },
    {
      "cell_type": "code",
      "metadata": {
        "colab": {
          "base_uri": "https://localhost:8080/",
          "height": 195
        },
        "id": "Zxr5wYtN-vhY",
        "outputId": "bda68e4e-e11b-4007-8a2b-115520298aa0"
      },
      "source": [
        "dataset.head()"
      ],
      "execution_count": 110,
      "outputs": [
        {
          "output_type": "execute_result",
          "data": {
            "text/html": [
              "<div>\n",
              "<style scoped>\n",
              "    .dataframe tbody tr th:only-of-type {\n",
              "        vertical-align: middle;\n",
              "    }\n",
              "\n",
              "    .dataframe tbody tr th {\n",
              "        vertical-align: top;\n",
              "    }\n",
              "\n",
              "    .dataframe thead th {\n",
              "        text-align: right;\n",
              "    }\n",
              "</style>\n",
              "<table border=\"1\" class=\"dataframe\">\n",
              "  <thead>\n",
              "    <tr style=\"text-align: right;\">\n",
              "      <th></th>\n",
              "      <th>text</th>\n",
              "      <th>category</th>\n",
              "    </tr>\n",
              "  </thead>\n",
              "  <tbody>\n",
              "    <tr>\n",
              "      <th>0</th>\n",
              "      <td>திருமலை நாயக்கர் பேரவை சார்பாக படம் வெற்றி பெற...</td>\n",
              "      <td>0</td>\n",
              "    </tr>\n",
              "    <tr>\n",
              "      <th>1</th>\n",
              "      <td>இந்த ட்ரெய்லர் கூட பார்க்கிற மாதிரி இல்லை.. இத...</td>\n",
              "      <td>1</td>\n",
              "    </tr>\n",
              "    <tr>\n",
              "      <th>2</th>\n",
              "      <td>மைசூரு செட்டியார் சமூகத்தின் சார்பாக இப்படம் வ...</td>\n",
              "      <td>0</td>\n",
              "    </tr>\n",
              "    <tr>\n",
              "      <th>3</th>\n",
              "      <td>மொத்த சாதியும் ஒரு சாதிக்கு எதிரா நிக்குது.......</td>\n",
              "      <td>1</td>\n",
              "    </tr>\n",
              "    <tr>\n",
              "      <th>4</th>\n",
              "      <td>only for விஜய் சேதுபதி and STR</td>\n",
              "      <td>0</td>\n",
              "    </tr>\n",
              "  </tbody>\n",
              "</table>\n",
              "</div>"
            ],
            "text/plain": [
              "                                                text  category\n",
              "0  திருமலை நாயக்கர் பேரவை சார்பாக படம் வெற்றி பெற...         0\n",
              "1  இந்த ட்ரெய்லர் கூட பார்க்கிற மாதிரி இல்லை.. இத...         1\n",
              "2  மைசூரு செட்டியார் சமூகத்தின் சார்பாக இப்படம் வ...         0\n",
              "3  மொத்த சாதியும் ஒரு சாதிக்கு எதிரா நிக்குது.......         1\n",
              "4                     only for விஜய் சேதுபதி and STR         0"
            ]
          },
          "metadata": {
            "tags": []
          },
          "execution_count": 110
        }
      ]
    },
    {
      "cell_type": "code",
      "metadata": {
        "colab": {
          "base_uri": "https://localhost:8080/",
          "height": 35
        },
        "id": "SApCZ1jyagpI",
        "outputId": "2c457b75-7613-41ae-b51a-2e0f53a40abd"
      },
      "source": [
        "dataset.text[0]"
      ],
      "execution_count": 111,
      "outputs": [
        {
          "output_type": "execute_result",
          "data": {
            "application/vnd.google.colaboratory.intrinsic+json": {
              "type": "string"
            },
            "text/plain": [
              "'திருமலை நாயக்கர் பேரவை சார்பாக படம் வெற்றி பெற வாழ்த்துக்கள்'"
            ]
          },
          "metadata": {
            "tags": []
          },
          "execution_count": 111
        }
      ]
    },
    {
      "cell_type": "code",
      "metadata": {
        "id": "js9kiC88o1-Y"
      },
      "source": [
        "def deEmojify(text):\n",
        "    regrex_pattern = re.compile(pattern = \"[\"\n",
        "        u\"\\U0001F600-\\U0001F64F\"  # emoticons\n",
        "        u\"\\U0001F300-\\U0001F5FF\"  # symbols & pictographs\n",
        "        u\"\\U0001F680-\\U0001F6FF\"  # transport & map symbols\n",
        "        u\"\\U0001F1E0-\\U0001F1FF\"  # flags (iOS)\n",
        "                           \"]+\", flags = re.UNICODE)\n",
        "    return regrex_pattern.sub(r'',text)"
      ],
      "execution_count": 112,
      "outputs": []
    },
    {
      "cell_type": "code",
      "metadata": {
        "id": "RYV8LGnievjP"
      },
      "source": [
        "import requests\n",
        "\n",
        "link = \"https://raw.githubusercontent.com/AshokR/TamilNLP/master/tamilnlp/Resources/TamilStopWords.txt\"\n",
        "req = requests.get(link)\n",
        "stopwords = req.text"
      ],
      "execution_count": 113,
      "outputs": []
    },
    {
      "cell_type": "code",
      "metadata": {
        "id": "S-We1siSVzj6"
      },
      "source": [
        "def clean_text(text):\n",
        "\n",
        "  corpus = ''.join(str(j) for j in text)\n",
        "  corpus = corpus.replace('.','')\n",
        "  corpus = corpus.replace('?','')\n",
        "  corpus = corpus.replace(',','')\n",
        "  corpus = corpus.replace('!','')\n",
        "  corpus = corpus.replace('/','')\n",
        "  corpus = corpus.replace('@','')\n",
        "  corpus = corpus.replace('\\\\','')\n",
        "  corpus = corpus.replace('(','')\n",
        "  corpus = corpus.replace(')','')\n",
        "  corpus = corpus.replace('-','')\n",
        "  corpus = corpus.replace('_','')\n",
        "  corpus = corpus.replace('@','')\n",
        "  corpus = corpus.replace('#','')\n",
        "  corpus = corpus.replace('$','')\n",
        "  corpus = corpus.replace(';','')\n",
        "  corpus = corpus.replace(':','')\n",
        "  corpus = corpus.replace('\\'','')\n",
        "  corpus = corpus.replace('\\\"','')\n",
        "  corpus = corpus.replace('*','')\n",
        "  corpus = ''.join(c for c in corpus if not c.isdigit())\n",
        "  corpus = deEmojify(corpus)\n",
        "  corpus = corpus.split()\n",
        "  corpus = [word for word in corpus if word not in str(stopwords.split()) and not word.isalpha()]\n",
        "  corpus = ' '.join(corpus)\n",
        "  return corpus"
      ],
      "execution_count": 114,
      "outputs": []
    },
    {
      "cell_type": "code",
      "metadata": {
        "id": "tXBKnXbNq_b9"
      },
      "source": [
        "for row in dataset:\n",
        "  dataset['text'] = dataset['text'].apply(clean_text)"
      ],
      "execution_count": 115,
      "outputs": []
    },
    {
      "cell_type": "code",
      "metadata": {
        "colab": {
          "base_uri": "https://localhost:8080/",
          "height": 195
        },
        "id": "8Xm2w9-lf61C",
        "outputId": "457a6a29-7cea-411e-b4d0-47afeeb3b536"
      },
      "source": [
        "dataset.head()"
      ],
      "execution_count": 116,
      "outputs": [
        {
          "output_type": "execute_result",
          "data": {
            "text/html": [
              "<div>\n",
              "<style scoped>\n",
              "    .dataframe tbody tr th:only-of-type {\n",
              "        vertical-align: middle;\n",
              "    }\n",
              "\n",
              "    .dataframe tbody tr th {\n",
              "        vertical-align: top;\n",
              "    }\n",
              "\n",
              "    .dataframe thead th {\n",
              "        text-align: right;\n",
              "    }\n",
              "</style>\n",
              "<table border=\"1\" class=\"dataframe\">\n",
              "  <thead>\n",
              "    <tr style=\"text-align: right;\">\n",
              "      <th></th>\n",
              "      <th>text</th>\n",
              "      <th>category</th>\n",
              "    </tr>\n",
              "  </thead>\n",
              "  <tbody>\n",
              "    <tr>\n",
              "      <th>0</th>\n",
              "      <td>திருமலை நாயக்கர் பேரவை சார்பாக படம் வெற்றி பெற...</td>\n",
              "      <td>0</td>\n",
              "    </tr>\n",
              "    <tr>\n",
              "      <th>1</th>\n",
              "      <td>ட்ரெய்லர் கூட பார்க்கிற மாதிரி இல்லை தியேட்டர்...</td>\n",
              "      <td>1</td>\n",
              "    </tr>\n",
              "    <tr>\n",
              "      <th>2</th>\n",
              "      <td>மைசூரு செட்டியார் சமூகத்தின் சார்பாக இப்படம் வ...</td>\n",
              "      <td>0</td>\n",
              "    </tr>\n",
              "    <tr>\n",
              "      <th>3</th>\n",
              "      <td>மொத்த சாதியும் சாதிக்கு எதிரா நிக்குது என்னா ச...</td>\n",
              "      <td>1</td>\n",
              "    </tr>\n",
              "    <tr>\n",
              "      <th>4</th>\n",
              "      <td>விஜய் சேதுபதி</td>\n",
              "      <td>0</td>\n",
              "    </tr>\n",
              "  </tbody>\n",
              "</table>\n",
              "</div>"
            ],
            "text/plain": [
              "                                                text  category\n",
              "0  திருமலை நாயக்கர் பேரவை சார்பாக படம் வெற்றி பெற...         0\n",
              "1  ட்ரெய்லர் கூட பார்க்கிற மாதிரி இல்லை தியேட்டர்...         1\n",
              "2  மைசூரு செட்டியார் சமூகத்தின் சார்பாக இப்படம் வ...         0\n",
              "3  மொத்த சாதியும் சாதிக்கு எதிரா நிக்குது என்னா ச...         1\n",
              "4                                      விஜய் சேதுபதி         0"
            ]
          },
          "metadata": {
            "tags": []
          },
          "execution_count": 116
        }
      ]
    },
    {
      "cell_type": "code",
      "metadata": {
        "colab": {
          "base_uri": "https://localhost:8080/"
        },
        "id": "mrmZSnyZF1co",
        "outputId": "c537bf63-0451-4b5d-91d5-0d05c3bc8f41"
      },
      "source": [
        "dataset.shape"
      ],
      "execution_count": 117,
      "outputs": [
        {
          "output_type": "execute_result",
          "data": {
            "text/plain": [
              "(5877, 2)"
            ]
          },
          "metadata": {
            "tags": []
          },
          "execution_count": 117
        }
      ]
    },
    {
      "cell_type": "code",
      "metadata": {
        "id": "Q9oOJK0vIEp1"
      },
      "source": [
        "import pandas as pd\n",
        "import numpy as np\n",
        "import matplotlib.pyplot as plt\n",
        "import nltk\n",
        "import seaborn as sns\n",
        "from nltk.corpus import stopwords\n",
        "from nltk.tokenize import word_tokenize\n",
        "from sklearn.model_selection import train_test_split\n",
        "from sklearn.preprocessing import LabelBinarizer\n",
        "from keras.preprocessing.text import Tokenizer\n",
        "from keras.preprocessing.sequence import pad_sequences\n",
        "from sklearn.feature_extraction.text import TfidfVectorizer\n",
        "from keras.layers import SpatialDropout1D\n",
        "from sklearn.metrics import classification_report\n",
        "from sklearn.metrics import roc_auc_score\n",
        "from sklearn.metrics import roc_curve\n",
        "from sklearn.metrics import precision_recall_curve\n",
        "from sklearn.model_selection import GridSearchCV\n",
        "from keras.models import Sequential\n",
        "from keras.layers import Dense\n",
        "from keras.layers import LSTM\n",
        "from keras.layers.embeddings import Embedding\n",
        "from keras.preprocessing import sequence\n",
        "from sklearn.feature_selection import RFE\n",
        "import re\n",
        "from IPython.core.interactiveshell import InteractiveShell\n",
        "InteractiveShell.ast_node_interactivity = \"all\""
      ],
      "execution_count": 118,
      "outputs": []
    },
    {
      "cell_type": "code",
      "metadata": {
        "colab": {
          "base_uri": "https://localhost:8080/"
        },
        "id": "Yawus2FAHbUL",
        "outputId": "23f566b4-eec2-4b61-ce99-4e235adc3a92"
      },
      "source": [
        "from keras.preprocessing.text import Tokenizer\n",
        "# The maximum number of words to be used. (most frequent)\n",
        "MAX_NB_WORDS = 32000\n",
        "# Max number of words in each complaint.\n",
        "MAX_SEQUENCE_LENGTH = 120\n",
        "# This is fixed.\n",
        "EMBEDDING_DIM = 100\n",
        "tokenizer = Tokenizer(num_words=MAX_NB_WORDS, filters='!\"#$%&()*+,-./:;<=>?@[\\]^_`{|}~', lower=False)\n",
        "tokenizer.fit_on_texts(dataset.text.values)\n",
        "word_index = tokenizer.word_index\n",
        "print('Found %s unique tokens.' % len(word_index))"
      ],
      "execution_count": 119,
      "outputs": [
        {
          "output_type": "stream",
          "text": [
            "Found 19650 unique tokens.\n"
          ],
          "name": "stdout"
        }
      ]
    },
    {
      "cell_type": "code",
      "metadata": {
        "colab": {
          "base_uri": "https://localhost:8080/"
        },
        "id": "PjxIpwH4HbdL",
        "outputId": "2bebbb44-eb0f-4f61-f2c2-3d0930cc0068"
      },
      "source": [
        "X = tokenizer.texts_to_sequences(dataset.text.values)\n",
        "X = pad_sequences(X, maxlen=MAX_SEQUENCE_LENGTH)\n",
        "print('Shape of data tensor:', X.shape)"
      ],
      "execution_count": 120,
      "outputs": [
        {
          "output_type": "stream",
          "text": [
            "Shape of data tensor: (5877, 120)\n"
          ],
          "name": "stdout"
        }
      ]
    },
    {
      "cell_type": "code",
      "metadata": {
        "colab": {
          "base_uri": "https://localhost:8080/"
        },
        "id": "eRUAtvdIHbgT",
        "outputId": "426ba457-42ce-4067-8ca2-ef0188a0858d"
      },
      "source": [
        "Y = pd.get_dummies(dataset.category).values\n",
        "print('Shape of label tensor:', Y.shape)"
      ],
      "execution_count": 121,
      "outputs": [
        {
          "output_type": "stream",
          "text": [
            "Shape of label tensor: (5877, 2)\n"
          ],
          "name": "stdout"
        }
      ]
    },
    {
      "cell_type": "code",
      "metadata": {
        "id": "uHC_xhbCIogy"
      },
      "source": [
        "train_features, test_features, train_labels, test_labels = train_test_split(X, Y, test_size=.10)"
      ],
      "execution_count": 122,
      "outputs": []
    },
    {
      "cell_type": "code",
      "metadata": {
        "colab": {
          "base_uri": "https://localhost:8080/"
        },
        "id": "ybIgGqfZIojC",
        "outputId": "3b7ab887-34a4-4edd-fd33-dafe4a71fc88"
      },
      "source": [
        "model = Sequential()\n",
        "model.add(Embedding(MAX_NB_WORDS, EMBEDDING_DIM, input_length=X.shape[1]))\n",
        "model.add(SpatialDropout1D(0.2))\n",
        "model.add(LSTM(100, dropout=0.2, recurrent_dropout=0.2))\n",
        "model.add(Dense(2, activation='softmax'))\n",
        "model.compile(loss='categorical_crossentropy', optimizer='adam', metrics=['accuracy'])\n",
        "history = model.fit(train_features, train_labels, epochs=5, batch_size=32,validation_split=0.2)\n",
        "# Final evaluation of the model\n",
        "model_pred_train = model.predict(train_features)\n",
        "model_pred_test = model.predict(test_features)\n",
        "# print(classification_report(test_labels,model_pred_test))\n",
        "print('LSTM Recurrent Neural Network baseline: ' + str(roc_auc_score(train_labels, model_pred_train)))\n",
        "print('LSTM Recurrent Neural Network: ' + str(roc_auc_score(test_labels, model_pred_test)))"
      ],
      "execution_count": 123,
      "outputs": [
        {
          "output_type": "stream",
          "text": [
            "Epoch 1/5\n",
            "133/133 [==============================] - 48s 323ms/step - loss: 0.5032 - accuracy: 0.7894 - val_loss: 0.4023 - val_accuracy: 0.8261\n",
            "Epoch 2/5\n",
            "133/133 [==============================] - 41s 305ms/step - loss: 0.2567 - accuracy: 0.8998 - val_loss: 0.4473 - val_accuracy: 0.8138\n",
            "Epoch 3/5\n",
            "133/133 [==============================] - 41s 306ms/step - loss: 0.0607 - accuracy: 0.9804 - val_loss: 0.5489 - val_accuracy: 0.8166\n",
            "Epoch 4/5\n",
            "133/133 [==============================] - 41s 307ms/step - loss: 0.0189 - accuracy: 0.9961 - val_loss: 0.6767 - val_accuracy: 0.7996\n",
            "Epoch 5/5\n",
            "133/133 [==============================] - 40s 303ms/step - loss: 0.0113 - accuracy: 0.9977 - val_loss: 0.7268 - val_accuracy: 0.7873\n",
            "LSTM Recurrent Neural Network baseline: 0.9846368727689551\n",
            "LSTM Recurrent Neural Network: 0.8321234988795465\n"
          ],
          "name": "stdout"
        }
      ]
    },
    {
      "cell_type": "code",
      "metadata": {
        "colab": {
          "base_uri": "https://localhost:8080/"
        },
        "id": "Lui4edZaIooR",
        "outputId": "32ef4295-3521-48b1-b225-1b19912b7791"
      },
      "source": [
        "# Translation : The celebration is to love nature .. This is a new venture\n",
        "news = ['இயற்கையை நேசிப்பதுதானே கொண்டாட்டம்.. இது ஒரு புது முயற்சி']\n",
        "seq = tokenizer.texts_to_sequences(news)\n",
        "padded = pad_sequences(seq, maxlen=MAX_SEQUENCE_LENGTH)\n",
        "pred = model.predict(padded)\n",
        "labels = ['Not Offensive','Offensive']\n",
        "label = pred, labels[np.argmax(pred)]\n",
        "print(\"News Category is: \")\n",
        "print(label[1])"
      ],
      "execution_count": 125,
      "outputs": [
        {
          "output_type": "stream",
          "text": [
            "News Category is: \n",
            "Not Offensive\n"
          ],
          "name": "stdout"
        }
      ]
    },
    {
      "cell_type": "code",
      "metadata": {
        "colab": {
          "base_uri": "https://localhost:8080/"
        },
        "id": "PiPJV-QDj8ys",
        "outputId": "f8204459-4c3d-4f0a-9cf7-39c073844f80"
      },
      "source": [
        "test_labels, model_pred_test"
      ],
      "execution_count": 130,
      "outputs": [
        {
          "output_type": "execute_result",
          "data": {
            "text/plain": [
              "(array([[1, 0],\n",
              "        [1, 0],\n",
              "        [1, 0],\n",
              "        ...,\n",
              "        [1, 0],\n",
              "        [1, 0],\n",
              "        [1, 0]], dtype=uint8), array([[9.99920011e-01, 8.00058697e-05],\n",
              "        [1.62897348e-01, 8.37102652e-01],\n",
              "        [9.99895811e-01, 1.04217506e-04],\n",
              "        ...,\n",
              "        [9.99995947e-01, 4.00337967e-06],\n",
              "        [9.99977589e-01, 2.24165124e-05],\n",
              "        [9.97588515e-01, 2.41155014e-03]], dtype=float32))"
            ]
          },
          "metadata": {
            "tags": []
          },
          "execution_count": 130
        }
      ]
    },
    {
      "cell_type": "code",
      "metadata": {
        "id": "L3EpN7L3j82A"
      },
      "source": [
        ""
      ],
      "execution_count": null,
      "outputs": []
    },
    {
      "cell_type": "code",
      "metadata": {
        "colab": {
          "base_uri": "https://localhost:8080/"
        },
        "id": "81kqQTBHIotJ",
        "outputId": "73c649de-8b02-43c1-b83e-60aaa277d737"
      },
      "source": [
        "from sklearn.metrics import confusion_matrix\n",
        "\n",
        "model_pred_test=np.argmax(model_pred_test, axis=1)\n",
        "test_labels=np.argmax(test_labels, axis=1)\n",
        "\n",
        "confusion_matrix(test_labels, model_pred_test)\n"
      ],
      "execution_count": 132,
      "outputs": [
        {
          "output_type": "execute_result",
          "data": {
            "text/plain": [
              "array([[413,  66],\n",
              "       [ 55,  54]])"
            ]
          },
          "metadata": {
            "tags": []
          },
          "execution_count": 132
        }
      ]
    },
    {
      "cell_type": "code",
      "metadata": {
        "colab": {
          "base_uri": "https://localhost:8080/"
        },
        "id": "540T_cFrHbl1",
        "outputId": "29f26a5a-719c-453b-ffc0-8446f62709cd"
      },
      "source": [
        "from sklearn.metrics import accuracy_score\n",
        "accuracy_score(test_labels,model_pred_test)"
      ],
      "execution_count": 133,
      "outputs": [
        {
          "output_type": "execute_result",
          "data": {
            "text/plain": [
              "0.79421768707483"
            ]
          },
          "metadata": {
            "tags": []
          },
          "execution_count": 133
        }
      ]
    },
    {
      "cell_type": "code",
      "metadata": {
        "id": "rY1_HmmsRCYT",
        "colab": {
          "base_uri": "https://localhost:8080/"
        },
        "outputId": "0a70cb48-13e3-4ff7-dc72-e53bffb273f3"
      },
      "source": [
        "from sklearn.metrics import classification_report\n",
        "print(classification_report(test_labels,model_pred_test))"
      ],
      "execution_count": 134,
      "outputs": [
        {
          "output_type": "stream",
          "text": [
            "              precision    recall  f1-score   support\n",
            "\n",
            "           0       0.88      0.86      0.87       479\n",
            "           1       0.45      0.50      0.47       109\n",
            "\n",
            "    accuracy                           0.79       588\n",
            "   macro avg       0.67      0.68      0.67       588\n",
            "weighted avg       0.80      0.79      0.80       588\n",
            "\n"
          ],
          "name": "stdout"
        }
      ]
    },
    {
      "cell_type": "code",
      "metadata": {
        "id": "R7xQr3GpSaS_",
        "colab": {
          "base_uri": "https://localhost:8080/"
        },
        "outputId": "a987efa6-f30b-4f07-eb4c-fe5acfe0080c"
      },
      "source": [
        "from sklearn.metrics import f1_score\n",
        "f1_score(test_labels,model_pred_test,average='weighted')"
      ],
      "execution_count": 135,
      "outputs": [
        {
          "output_type": "execute_result",
          "data": {
            "text/plain": [
              "0.7979649116070991"
            ]
          },
          "metadata": {
            "tags": []
          },
          "execution_count": 135
        }
      ]
    },
    {
      "cell_type": "code",
      "metadata": {
        "id": "GN5cenwzouNO"
      },
      "source": [
        ""
      ],
      "execution_count": null,
      "outputs": []
    }
  ]
}